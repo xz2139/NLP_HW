{
 "cells": [
  {
   "cell_type": "code",
   "execution_count": 152,
   "metadata": {},
   "outputs": [
    {
     "data": {
      "text/plain": [
       "<torch._C.Generator at 0x20bf2037a30>"
      ]
     },
     "execution_count": 152,
     "metadata": {},
     "output_type": "execute_result"
    }
   ],
   "source": [
    "import os\n",
    "import numpy as np\n",
    "import re\n",
    "import pandas as pd\n",
    "import random\n",
    "import nltk\n",
    "import string\n",
    "from nltk.tokenize.treebank import TreebankWordTokenizer\n",
    "from sklearn.model_selection import train_test_split\n",
    "from nltk.tokenize import WordPunctTokenizer\n",
    "from nltk.tokenize import WhitespaceTokenizer\n",
    "import torch\n",
    "import torch.nn as nn\n",
    "from torch.autograd import Variable\n",
    "from torch import optim\n",
    "import torch.nn.functional as F\n",
    "from collections import Counter\n",
    "from torch.nn.utils.rnn import pack_padded_sequence, pad_packed_sequence\n",
    "import pickle as pkl\n",
    "torch.manual_seed(0)"
   ]
  },
  {
   "cell_type": "markdown",
   "metadata": {},
   "source": [
    "## Load Dataset"
   ]
  },
  {
   "cell_type": "code",
   "execution_count": 153,
   "metadata": {
    "collapsed": true
   },
   "outputs": [],
   "source": [
    "imdb_dir = 'aclImdb'\n",
    "train_dir = os.path.join(imdb_dir, 'train')\n",
    "test_dir = os.path.join(imdb_dir, 'test')\n",
    "\n",
    "def read_test_train_dir(path,):\n",
    "    labels = []\n",
    "    texts = []\n",
    "    rate=[]\n",
    "    for label_type in ['neg', 'pos']:\n",
    "        dir_name = os.path.join(train_dir, label_type)\n",
    "        for fname in os.listdir(dir_name):\n",
    "            if fname[-4:] == '.txt':\n",
    "                f = open(os.path.join(dir_name, fname), encoding='utf-8')\n",
    "                texts.append(f.read())\n",
    "                f.close()\n",
    "                rate.append(int(fname[-5]))\n",
    "            if label_type == 'neg':\n",
    "                labels.append(0)\n",
    "            else:\n",
    "                labels.append(1)\n",
    "    return texts,labels,rate\n",
    "\n",
    "###create training, validation and testing dataset \n",
    "train_texts,train_labels,train_rate = read_test_train_dir(train_dir)\n",
    "test_texts, test_labels,test_rate = read_test_train_dir(test_dir)\n",
    "X_train, X_val, y_train, y_val = train_test_split(train_texts,train_labels, test_size=0.2, random_state=42)\n",
    "_,X_test, _, y_test = train_test_split(test_texts, test_labels, test_size=0.4, random_state=42)"
   ]
  },
  {
   "cell_type": "markdown",
   "metadata": {
    "collapsed": true
   },
   "source": [
    "## Define Tokenizers"
   ]
  },
  {
   "cell_type": "code",
   "execution_count": 9,
   "metadata": {},
   "outputs": [
    {
     "name": "stdout",
     "output_type": "stream",
     "text": [
      "['apple', 'is', 'looking', 'at', 'buying', 'u.k.', 'startup', 'for', '1', 'billion']\n"
     ]
    }
   ],
   "source": [
    "# Load English tokenizer, tagger, parser, NER and word vectors\n",
    "tokenizer = spacy.load('en_core_web_sm')\n",
    "punctuations = string.punctuation\n",
    "\n",
    "# lowercase and remove punctuation\n",
    "def tokenize(sent):\n",
    "    tokens = tokenizer(sent)\n",
    "    return [token.text.lower() for token in tokens if (token.text not in punctuations)]\n",
    "\n",
    "# Example\n",
    "tokens = tokenize(u'Apple is looking at buying U.K. startup for $1 billion')\n",
    "print (tokens)"
   ]
  },
  {
   "cell_type": "code",
   "execution_count": 25,
   "metadata": {},
   "outputs": [
    {
     "name": "stdout",
     "output_type": "stream",
     "text": [
      "['apple', 'is', 'looking', 'at', 'buying', 'u', '.', 'k', '.', 'startup', 'for', '$', '1', 'billion']\n"
     ]
    }
   ],
   "source": [
    "\n",
    "# lowercase and remove punctuation\n",
    "def WordPuncttokenize(sent):\n",
    "    tokens = WordPunctTokenizer().tokenize(sent)\n",
    "    return [token.lower() for token in tokens]\n",
    "# Example\n",
    "tokens = WordPuncttokenize(u'Apple is looking at buying U.K. startup for $1 billion')\n",
    "print (tokens)"
   ]
  },
  {
   "cell_type": "code",
   "execution_count": 27,
   "metadata": {},
   "outputs": [
    {
     "name": "stdout",
     "output_type": "stream",
     "text": [
      "['apple', 'is', 'looking', 'at', 'buying', 'u.k.', 'startup', 'for', '$1', 'billion']\n"
     ]
    }
   ],
   "source": [
    "# lowercase and remove punctuation\n",
    "def Whitespacetokenize(sent):\n",
    "    tokens =WhitespaceTokenizer().tokenize(sent)\n",
    "    return [token.lower() for token in tokens]\n",
    "# Example\n",
    "tokens = Whitespacetokenize(u'Apple is looking at buying U.K. startup for $1 billion')\n",
    "print (tokens)"
   ]
  },
  {
   "cell_type": "code",
   "execution_count": 18,
   "metadata": {},
   "outputs": [
    {
     "name": "stdout",
     "output_type": "stream",
     "text": [
      "['apple', 'is', 'looking', 'at', 'buying', 'u.k.', 'startup', 'for', '$', '1', 'billion']\n"
     ]
    }
   ],
   "source": [
    "\n",
    "# lowercase and remove punctuation\n",
    "def Treebanktokenize(sent):\n",
    "    tokens = TreebankWordTokenizer().tokenize(sent)\n",
    "    return [token.lower() for token in tokens]\n",
    "# Example\n",
    "tokens = Treebanktokenize(u'Apple is looking at buying U.K. startup for $1 billion')\n",
    "print (tokens)"
   ]
  },
  {
   "cell_type": "markdown",
   "metadata": {},
   "source": [
    "## Save different tokens"
   ]
  },
  {
   "cell_type": "code",
   "execution_count": 19,
   "metadata": {},
   "outputs": [
    {
     "name": "stdout",
     "output_type": "stream",
     "text": [
      "Tokenizing val data\n",
      "Tokenizing test data\n",
      "Tokenizing train data\n"
     ]
    }
   ],
   "source": [
    "\n",
    "\n",
    "def tokenize_dataset(dataset):\n",
    "    token_dataset = []\n",
    "    all_tokens = []\n",
    "    \n",
    "    for sample in dataset:\n",
    "        tokens = Treebanktokenize(sample)\n",
    "        token_dataset.append(tokens)\n",
    "        all_tokens += tokens\n",
    "\n",
    "    return token_dataset, all_tokens\n",
    "\n",
    "# val set tokens\n",
    "print (\"Tokenizing val data\")\n",
    "val_data_tokens, _ = tokenize_dataset(X_val)\n",
    "pkl.dump(val_data_tokens, open(\"val_data_tokens_treebank.pkl\", \"wb\"))\n",
    "\n",
    "# test set tokens\n",
    "print (\"Tokenizing test data\")\n",
    "test_data_tokens, _ = tokenize_dataset(X_test)\n",
    "pkl.dump(test_data_tokens, open(\"test_data_tokens_treebank.pkl\", \"wb\"))\n",
    "\n",
    "# train set tokens\n",
    "print (\"Tokenizing train data\")\n",
    "train_data_tokens, all_train_tokens = tokenize_dataset(X_train)\n",
    "pkl.dump(train_data_tokens, open(\"train_data_tokens_treebank.pkl\", \"wb\"))\n",
    "pkl.dump(all_train_tokens, open(\"all_train_tokens_treebank.pkl\", \"wb\"))"
   ]
  },
  {
   "cell_type": "code",
   "execution_count": 28,
   "metadata": {},
   "outputs": [
    {
     "name": "stdout",
     "output_type": "stream",
     "text": [
      "Tokenizing val data\n",
      "Tokenizing test data\n",
      "Tokenizing train data\n"
     ]
    }
   ],
   "source": [
    "def tokenize_dataset(dataset):\n",
    "    token_dataset = []\n",
    "    all_tokens = []\n",
    "    \n",
    "    for sample in dataset:\n",
    "        tokens = WordPuncttokenize(sample)\n",
    "        token_dataset.append(tokens)\n",
    "        all_tokens += tokens\n",
    "\n",
    "    return token_dataset, all_tokens\n",
    "\n",
    "# val set tokens\n",
    "print (\"Tokenizing val data\")\n",
    "val_data_tokens, _ = tokenize_dataset(X_val)\n",
    "pkl.dump(val_data_tokens, open(\"val_data_tokens_WordPunct.pkl\", \"wb\"))\n",
    "\n",
    "# test set tokens\n",
    "print (\"Tokenizing test data\")\n",
    "test_data_tokens, _ = tokenize_dataset(X_test)\n",
    "pkl.dump(test_data_tokens, open(\"test_data_tokens_WordPunct.pkl\", \"wb\"))\n",
    "\n",
    "# train set tokens\n",
    "print (\"Tokenizing train data\")\n",
    "train_data_tokens, all_train_tokens = tokenize_dataset(X_train)\n",
    "pkl.dump(train_data_tokens, open(\"train_data_tokens_WordPunct.pkl\", \"wb\"))\n",
    "pkl.dump(all_train_tokens, open(\"all_train_tokens_WordPunct.pkl\", \"wb\"))"
   ]
  },
  {
   "cell_type": "code",
   "execution_count": 29,
   "metadata": {},
   "outputs": [
    {
     "name": "stdout",
     "output_type": "stream",
     "text": [
      "Tokenizing val data\n",
      "Tokenizing test data\n",
      "Tokenizing train data\n"
     ]
    }
   ],
   "source": [
    "def tokenize_dataset(dataset):\n",
    "    token_dataset = []\n",
    "    all_tokens = []\n",
    "    \n",
    "    for sample in dataset:\n",
    "        tokens = Whitespacetokenize(sample)\n",
    "        token_dataset.append(tokens)\n",
    "        all_tokens += tokens\n",
    "\n",
    "    return token_dataset, all_tokens\n",
    "\n",
    "# val set tokens\n",
    "print (\"Tokenizing val data\")\n",
    "val_data_tokens, _ = tokenize_dataset(X_val)\n",
    "pkl.dump(val_data_tokens, open(\"val_data_tokens_Whitespace.pkl\", \"wb\"))\n",
    "\n",
    "# test set tokens\n",
    "print (\"Tokenizing test data\")\n",
    "test_data_tokens, _ = tokenize_dataset(X_test)\n",
    "pkl.dump(test_data_tokens, open(\"test_data_tokens_Whitespace.pkl\", \"wb\"))\n",
    "\n",
    "# train set tokens\n",
    "print (\"Tokenizing train data\")\n",
    "train_data_tokens, all_train_tokens = tokenize_dataset(X_train)\n",
    "pkl.dump(train_data_tokens, open(\"train_data_tokens_Whitespace.pkl\", \"wb\"))\n",
    "pkl.dump(all_train_tokens, open(\"all_train_tokens_Whitespace.pkl\", \"wb\"))"
   ]
  },
  {
   "cell_type": "markdown",
   "metadata": {},
   "source": [
    "## Define N-gram functions"
   ]
  },
  {
   "cell_type": "code",
   "execution_count": 154,
   "metadata": {
    "collapsed": true
   },
   "outputs": [],
   "source": [
    "def ngram(sentence,grams=1):\n",
    "    if grams==1:\n",
    "        return sentence\n",
    "    if grams==2:\n",
    "        return [((sentence[i],sentence[i+1])) for i in range(len(sentence)-1)]+ngram(sentence,1)\n",
    "    if grams==3:\n",
    "        return [((sentence[i],sentence[i+1],sentence[i+2])) for i in range(len(sentence)-2)]+ngram(sentence,2)\n",
    "    if grams==4:\n",
    "        return [((sentence[i],sentence[i+1],sentence[i+2],sentence[i+3])) for i in range(len(sentence)-3)]+ngram(sentence,3)"
   ]
  },
  {
   "cell_type": "code",
   "execution_count": 155,
   "metadata": {
    "collapsed": true
   },
   "outputs": [],
   "source": [
    "def Tokens(scheme='spacy',grams=1):\n",
    "    if scheme=='spacy':\n",
    "        train_data_tokens = pkl.load(open(\"train_data_tokens.pkl\", \"rb\"))\n",
    "        all_train_tokens = pkl.load(open(\"all_train_tokens.pkl\", \"rb\"))\n",
    "        val_data_tokens = pkl.load(open(\"val_data_tokens.pkl\", \"rb\"))\n",
    "        test_data_tokens = pkl.load(open(\"test_data_tokens.pkl\", \"rb\"))\n",
    "    elif scheme=='treebank':\n",
    "        train_data_tokens = pkl.load(open(\"train_data_tokens_treebank.pkl\", \"rb\"))\n",
    "        all_train_tokens = pkl.load(open(\"all_train_tokens_treebank.pkl\", \"rb\"))\n",
    "        val_data_tokens = pkl.load(open(\"val_data_tokens_treebank.pkl\", \"rb\"))\n",
    "        test_data_tokens = pkl.load(open(\"test_data_tokens_treebank.pkl\", \"rb\"))\n",
    "    elif scheme=='wordpunct':\n",
    "        train_data_tokens = pkl.load(open(\"train_data_tokens_WordPunct.pkl\", \"rb\"))\n",
    "        all_train_tokens = pkl.load(open(\"all_train_tokens_WordPunct.pkl\", \"rb\"))\n",
    "        val_data_tokens = pkl.load(open(\"val_data_tokens_WordPunct.pkl\", \"rb\"))\n",
    "        test_data_tokens = pkl.load(open(\"test_data_tokens_WordPunct.pkl\", \"rb\"))\n",
    "    elif scheme=='whitespace':\n",
    "        train_data_tokens = pkl.load(open(\"train_data_tokens_Whitespace.pkl\", \"rb\"))\n",
    "        all_train_tokens = pkl.load(open(\"all_train_tokens_Whitespace.pkl\", \"rb\"))\n",
    "        val_data_tokens = pkl.load(open(\"val_data_tokens_Whitespace.pkl\", \"rb\"))\n",
    "        test_data_tokens = pkl.load(open(\"test_data_tokens_Whitespace.pkl\", \"rb\"))    \n",
    "    train=[ngram(t, grams) for t in train_data_tokens]\n",
    "    val=[ngram(t, grams) for t in val_data_tokens]\n",
    "    test=[ngram(t, grams) for t in test_data_tokens]\n",
    "    all_t=[j for i in train for j in i]\n",
    "    return train, val, test, all_t"
   ]
  },
  {
   "cell_type": "code",
   "execution_count": 163,
   "metadata": {
    "collapsed": true
   },
   "outputs": [],
   "source": [
    "# First import torch related libraries\n",
    "class Ngram(nn.Module):\n",
    "\n",
    "    def __init__(self, vocab_size, emb_dim):\n",
    "\n",
    "        super(Ngram, self).__init__()\n",
    "        self.embed = nn.Embedding(vocab_size, emb_dim, padding_idx=0)\n",
    "        self.linear = nn.Linear(emb_dim,2)\n",
    "    \n",
    "    def forward(self, data, length):\n",
    "        out = self.embed(data.long())\n",
    "        out = torch.sum(out, dim=1)\n",
    "        out /= length.view(length.size()[0],1).expand_as(out).float()\n",
    "        out = self.linear(out.float())\n",
    "        return out"
   ]
  },
  {
   "cell_type": "markdown",
   "metadata": {},
   "source": [
    "## Hyperparameter Tuning"
   ]
  },
  {
   "cell_type": "code",
   "execution_count": 173,
   "metadata": {
    "collapsed": true
   },
   "outputs": [],
   "source": [
    "def tuning(scheme='spacy',grams=1,emb_dim = 100,learning_rate = \n",
    "           0.01,num_epochs = 10,optim='Adam',decay=0,vocab_size=10000,save=False):\n",
    "    train_data_tokens,val_data_tokens,test_data_tokens,all_train_tokens=Tokens(scheme,grams)\n",
    "    max_vocab_size = vocab_size\n",
    "    PAD_IDX = 0\n",
    "    UNK_IDX = 1\n",
    "    \n",
    "    def build_vocab(all_tokens):\n",
    "        token_counter = Counter(all_tokens)\n",
    "        vocab, count = zip(*token_counter.most_common(max_vocab_size))\n",
    "        id2token = list(vocab)\n",
    "        token2id = dict(zip(vocab, range(2,2+len(vocab)))) \n",
    "        id2token = ['<pad>', '<unk>'] + id2token\n",
    "        token2id['<pad>'] = PAD_IDX \n",
    "        token2id['<unk>'] = UNK_IDX\n",
    "        return token2id, id2token\n",
    "\n",
    "    token2id, id2token = build_vocab(all_train_tokens)\n",
    "    random_token_id = random.randint(0, len(id2token)-1)\n",
    "    random_token = id2token[random_token_id]\n",
    "    \n",
    "    def token2index_dataset(tokens_data):\n",
    "        indices_data = []\n",
    "        for tokens in tokens_data:\n",
    "            index_list = [token2id[token] if token in token2id else UNK_IDX for token in tokens]\n",
    "            indices_data.append(index_list)\n",
    "        return indices_data\n",
    "\n",
    "    train_data_indices = token2index_dataset(train_data_tokens)\n",
    "    val_data_indices = token2index_dataset(val_data_tokens)\n",
    "    test_data_indices = token2index_dataset(test_data_tokens)\n",
    "\n",
    "    MAX_SENTENCE_LENGTH = 250\n",
    "\n",
    "    class NewsGroupDataset(Dataset):\n",
    "\n",
    "        def __init__(self, data_list, target_list):\n",
    "            self.data_list = data_list\n",
    "            self.target_list = target_list\n",
    "            assert (len(self.data_list) == len(self.target_list))\n",
    "\n",
    "        def __len__(self):\n",
    "            return len(self.data_list)\n",
    "\n",
    "        def __getitem__(self, key):\n",
    "            token_idx = self.data_list[key][:MAX_SENTENCE_LENGTH]\n",
    "            label = self.target_list[key]\n",
    "            return [token_idx, len(token_idx), label]\n",
    "\n",
    "    def newsgroup_collate_func(batch):\n",
    "        data_list = []\n",
    "        label_list = []\n",
    "        length_list = []\n",
    "        for datum in batch:\n",
    "            label_list.append(datum[2])\n",
    "            length_list.append(datum[1])\n",
    "        # padding\n",
    "        for datum in batch:\n",
    "            padded_vec = np.pad(np.array(datum[0]), \n",
    "                                    pad_width=((0,MAX_SENTENCE_LENGTH-datum[1])), \n",
    "                                    mode=\"constant\", constant_values=0)\n",
    "            data_list.append(padded_vec)\n",
    "        return [torch.from_numpy(np.array(data_list)), torch.LongTensor(length_list), torch.LongTensor(label_list)]\n",
    "\n",
    "    BATCH_SIZE = 32\n",
    "    train_dataset = NewsGroupDataset(train_data_indices, y_train)\n",
    "    train_loader = torch.utils.data.DataLoader(dataset=train_dataset, \n",
    "                                               batch_size=BATCH_SIZE,\n",
    "                                               collate_fn=newsgroup_collate_func,\n",
    "                                               shuffle=True)\n",
    "\n",
    "    val_dataset = NewsGroupDataset(val_data_indices, y_val)\n",
    "    val_loader = torch.utils.data.DataLoader(dataset=val_dataset, \n",
    "                                               batch_size=BATCH_SIZE,\n",
    "                                               collate_fn=newsgroup_collate_func,\n",
    "                                               shuffle=True)\n",
    "\n",
    "    test_dataset = NewsGroupDataset(test_data_indices,y_test)\n",
    "    test_loader = torch.utils.data.DataLoader(dataset=test_dataset, \n",
    "                                               batch_size=BATCH_SIZE,\n",
    "                                               collate_fn=newsgroup_collate_func,\n",
    "                                               shuffle=False)\n",
    "\n",
    "    model = Ngram(len(id2token), emb_dim)\n",
    "    va_acc=[]\n",
    "    tr_acc=[]\n",
    "    \n",
    "    criterion = torch.nn.CrossEntropyLoss()  \n",
    "    if optim=='Adam':\n",
    "        optimizer = torch.optim.Adam(model.parameters(), lr=learning_rate,weight_decay=decay)\n",
    "    elif optim=='SGD':\n",
    "        optimizer = torch.optim.SGD(model.parameters(), lr=learning_rate,weight_decay=decay)\n",
    "        \n",
    "    def test_model(loader, model):\n",
    "        \"\"\"\n",
    "        Help function that tests the model's performance on a dataset\n",
    "        @param: loader - data loader for the dataset to test against\n",
    "        \"\"\"\n",
    "        correct = 0\n",
    "        total = 0\n",
    "        model.eval()\n",
    "        for data, lengths, labels in loader:\n",
    "            data_batch, length_batch, label_batch = data, lengths, labels\n",
    "            outputs = F.softmax(model(data_batch, length_batch), dim=1)\n",
    "            predicted = outputs.max(1, keepdim=True)[1]\n",
    "            total += labels.size(0)\n",
    "            correct += predicted.eq(labels.view_as(predicted)).sum().item()\n",
    "        return (100 * correct / total)\n",
    "\n",
    "    for epoch in range(num_epochs):\n",
    "        for i, (data, lengths, labels) in enumerate(train_loader):\n",
    "            model.train()\n",
    "            data_batch, length_batch, label_batch = data, lengths, labels\n",
    "            optimizer.zero_grad()\n",
    "            outputs = model(data_batch, length_batch)\n",
    "            loss = criterion(outputs, label_batch)\n",
    "            loss.backward()\n",
    "            optimizer.step()\n",
    "        val_acc = test_model(val_loader, model)\n",
    "        tra_acc= test_model(train_loader, model)\n",
    "        va_acc.append(val_acc)\n",
    "        tr_acc.append(tra_acc)\n",
    "    if save:\n",
    "        return tr_acc,va_acc,model,test_loader,id2token\n",
    "    else:\n",
    "        return tr_acc,va_acc"
   ]
  },
  {
   "cell_type": "code",
   "execution_count": 49,
   "metadata": {},
   "outputs": [
    {
     "name": "stdout",
     "output_type": "stream",
     "text": [
      "85.46\n"
     ]
    }
   ],
   "source": [
    "tr_acc,va_acc=tuning(scheme='whitespace',grams=1,emb_dim = 100,learning_rate = 0.01,num_epochs = 10)\n",
    "print(va_acc[-1])\n",
    "##whitespace "
   ]
  },
  {
   "cell_type": "code",
   "execution_count": 59,
   "metadata": {},
   "outputs": [
    {
     "name": "stdout",
     "output_type": "stream",
     "text": [
      "85.7\n"
     ]
    }
   ],
   "source": [
    "tr_acc,va_acc=tuning(scheme='treebank',grams=1,emb_dim = 100,learning_rate = 0.01,num_epochs = 10)\n",
    "print(va_acc[-1])\n",
    "##treebank"
   ]
  },
  {
   "cell_type": "code",
   "execution_count": 69,
   "metadata": {},
   "outputs": [
    {
     "name": "stdout",
     "output_type": "stream",
     "text": [
      "86.58\n"
     ]
    }
   ],
   "source": [
    "tr_acc,va_acc=tuning(scheme='wordpunct',grams=1,emb_dim = 100,learning_rate = 0.01,num_epochs = 10)\n",
    "print(va_acc[-1])\n",
    "##WordPunct"
   ]
  },
  {
   "cell_type": "code",
   "execution_count": 49,
   "metadata": {},
   "outputs": [
    {
     "name": "stdout",
     "output_type": "stream",
     "text": [
      "86.64\n"
     ]
    }
   ],
   "source": [
    "tr_acc,va_acc=tuning(scheme='spacy',grams=1,emb_dim = 100,learning_rate = 0.01,num_epochs = 10)\n",
    "print(va_acc[-1])"
   ]
  },
  {
   "cell_type": "code",
   "execution_count": 49,
   "metadata": {},
   "outputs": [
    {
     "name": "stdout",
     "output_type": "stream",
     "text": [
      "86.64\n"
     ]
    }
   ],
   "source": [
    "tr_acc,va_acc=tuning(scheme='spacy',grams=1,emb_dim = 100,learning_rate = 0.01,num_epochs = 10,vocab_size=20000)\n",
    "print(va_acc[-1])"
   ]
  },
  {
   "cell_type": "code",
   "execution_count": 50,
   "metadata": {},
   "outputs": [
    {
     "name": "stdout",
     "output_type": "stream",
     "text": [
      "65.18\n"
     ]
    }
   ],
   "source": [
    "tr_acc,va_acc=tuning(scheme='spacy',grams=1,emb_dim = 100,learning_rate = 0.01,num_epochs = 10,optim='SGD')\n",
    "print(va_acc[-1])"
   ]
  },
  {
   "cell_type": "code",
   "execution_count": 55,
   "metadata": {},
   "outputs": [
    {
     "name": "stdout",
     "output_type": "stream",
     "text": [
      "83.1\n"
     ]
    }
   ],
   "source": [
    "tr_acc,va_acc=tuning(scheme='spacy',grams=2,emb_dim = 100,learning_rate = 0.01,num_epochs = 10)\n",
    "print(va_acc[-1])"
   ]
  },
  {
   "cell_type": "code",
   "execution_count": 54,
   "metadata": {},
   "outputs": [
    {
     "name": "stdout",
     "output_type": "stream",
     "text": [
      "84.58\n"
     ]
    }
   ],
   "source": [
    "tr_acc,va_acc=tuning(scheme='spacy',grams=2,emb_dim = 100,learning_rate = 0.01,num_epochs = 10,vocab_size=20000)\n",
    "print(va_acc[-1])"
   ]
  },
  {
   "cell_type": "code",
   "execution_count": 56,
   "metadata": {},
   "outputs": [
    {
     "name": "stdout",
     "output_type": "stream",
     "text": [
      "85.02\n"
     ]
    }
   ],
   "source": [
    "tr_acc,va_acc=tuning(scheme='spacy',grams=2,emb_dim = 100,learning_rate = 0.01,num_epochs = 10,vocab_size=30000)\n",
    "print(va_acc[-1])"
   ]
  },
  {
   "cell_type": "code",
   "execution_count": 57,
   "metadata": {},
   "outputs": [
    {
     "name": "stdout",
     "output_type": "stream",
     "text": [
      "85.36\n"
     ]
    }
   ],
   "source": [
    "tr_acc,va_acc=tuning(scheme='spacy',grams=2,emb_dim = 100,learning_rate = 0.01,num_epochs = 10,vocab_size=50000)\n",
    "print(va_acc[-1])"
   ]
  },
  {
   "cell_type": "code",
   "execution_count": 38,
   "metadata": {},
   "outputs": [
    {
     "name": "stdout",
     "output_type": "stream",
     "text": [
      "77.78\n"
     ]
    }
   ],
   "source": [
    "tr_acc,va_acc=tuning(scheme='spacy',grams=3,emb_dim = 100,learning_rate = 0.01,num_epochs = 10,vocab_size=30000)\n",
    "print(va_acc[-1])"
   ]
  },
  {
   "cell_type": "code",
   "execution_count": 39,
   "metadata": {},
   "outputs": [
    {
     "name": "stdout",
     "output_type": "stream",
     "text": [
      "74.26\n"
     ]
    }
   ],
   "source": [
    "tr_acc,va_acc=tuning(scheme='spacy',grams=3,emb_dim = 100,learning_rate = 0.01,num_epochs = 10)\n",
    "print(va_acc[-1])"
   ]
  },
  {
   "cell_type": "code",
   "execution_count": 52,
   "metadata": {},
   "outputs": [
    {
     "name": "stdout",
     "output_type": "stream",
     "text": [
      "63.26\n"
     ]
    }
   ],
   "source": [
    "tr_acc,va_acc=tuning(scheme='spacy',grams=4,emb_dim = 100,learning_rate = 0.01,num_epochs = 10)\n",
    "print(va_acc[-1])"
   ]
  },
  {
   "cell_type": "code",
   "execution_count": 154,
   "metadata": {},
   "outputs": [
    {
     "name": "stdout",
     "output_type": "stream",
     "text": [
      "86.92\n"
     ]
    }
   ],
   "source": [
    "tr_acc,va_acc=tuning(scheme='spacy',grams=1,emb_dim = 100,learning_rate = 0.001,num_epochs = 10)\n",
    "print(va_acc[-1])"
   ]
  },
  {
   "cell_type": "code",
   "execution_count": 160,
   "metadata": {},
   "outputs": [
    {
     "name": "stdout",
     "output_type": "stream",
     "text": [
      "86.72\n"
     ]
    }
   ],
   "source": [
    "tr_acc,va_acc=tuning(scheme='spacy',grams=1,emb_dim = 100,learning_rate = 0.0001,num_epochs = 50)\n",
    "print(va_acc[-1])"
   ]
  },
  {
   "cell_type": "code",
   "execution_count": 25,
   "metadata": {},
   "outputs": [
    {
     "name": "stdout",
     "output_type": "stream",
     "text": [
      "73.54\n"
     ]
    }
   ],
   "source": [
    "tr_acc,va_acc=tuning(scheme='spacy',grams=1,emb_dim = 100,learning_rate = 0.0001,num_epochs = 10)\n",
    "print(va_acc[-1])"
   ]
  },
  {
   "cell_type": "code",
   "execution_count": 26,
   "metadata": {},
   "outputs": [
    {
     "name": "stdout",
     "output_type": "stream",
     "text": [
      "87.0\n"
     ]
    }
   ],
   "source": [
    "tr_acc,va_acc=tuning(scheme='spacy',grams=1,emb_dim = 100,learning_rate = 0.001,num_epochs = 20)\n",
    "print(va_acc[-1])"
   ]
  },
  {
   "cell_type": "code",
   "execution_count": 27,
   "metadata": {},
   "outputs": [
    {
     "name": "stdout",
     "output_type": "stream",
     "text": [
      "86.94\n"
     ]
    }
   ],
   "source": [
    "tr_acc,va_acc=tuning(scheme='spacy',grams=1,emb_dim = 100,learning_rate = 0.001,num_epochs = 30)\n",
    "print(va_acc[-1])"
   ]
  },
  {
   "cell_type": "code",
   "execution_count": 29,
   "metadata": {},
   "outputs": [
    {
     "name": "stdout",
     "output_type": "stream",
     "text": [
      "86.88\n"
     ]
    }
   ],
   "source": [
    "tr_acc,va_acc=tuning(scheme='spacy',grams=1,emb_dim = 50,learning_rate = 0.001,num_epochs = 20)\n",
    "print(va_acc[-1])"
   ]
  },
  {
   "cell_type": "code",
   "execution_count": 164,
   "metadata": {},
   "outputs": [
    {
     "name": "stdout",
     "output_type": "stream",
     "text": [
      "87.04\n"
     ]
    }
   ],
   "source": [
    "tr_acc,va_acc=tuning(scheme='spacy',grams=1,emb_dim = 100,learning_rate = 0.001,num_epochs = 20)\n",
    "print(va_acc[-1])"
   ]
  },
  {
   "cell_type": "code",
   "execution_count": 166,
   "metadata": {},
   "outputs": [
    {
     "name": "stdout",
     "output_type": "stream",
     "text": [
      "86.9\n"
     ]
    }
   ],
   "source": [
    "tr_acc,va_acc=tuning(scheme='spacy',grams=1,emb_dim = 150,learning_rate = 0.001,num_epochs = 20)\n",
    "print(va_acc[-1])"
   ]
  },
  {
   "cell_type": "code",
   "execution_count": 168,
   "metadata": {},
   "outputs": [
    {
     "name": "stdout",
     "output_type": "stream",
     "text": [
      "87.12\n"
     ]
    }
   ],
   "source": [
    "tr_acc,va_acc=tuning(scheme='spacy',grams=1,emb_dim = 80,learning_rate = 0.001,num_epochs = 20)\n",
    "print(va_acc[-1])"
   ]
  },
  {
   "cell_type": "code",
   "execution_count": 170,
   "metadata": {},
   "outputs": [
    {
     "name": "stdout",
     "output_type": "stream",
     "text": [
      "86.92\n"
     ]
    }
   ],
   "source": [
    "tr_acc,va_acc=tuning(scheme='spacy',grams=1,emb_dim = 70,learning_rate = 0.001,num_epochs = 20)\n",
    "print(va_acc[-1])"
   ]
  },
  {
   "cell_type": "code",
   "execution_count": 171,
   "metadata": {},
   "outputs": [
    {
     "name": "stdout",
     "output_type": "stream",
     "text": [
      "86.98\n"
     ]
    }
   ],
   "source": [
    "tr_acc,va_acc=tuning(scheme='spacy',grams=1,emb_dim = 90,learning_rate = 0.001,num_epochs = 20)\n",
    "print(va_acc[-1])"
   ]
  },
  {
   "cell_type": "code",
   "execution_count": 31,
   "metadata": {},
   "outputs": [
    {
     "name": "stdout",
     "output_type": "stream",
     "text": [
      "59.12\n"
     ]
    }
   ],
   "source": [
    "tr_acc,va_acc=tuning(scheme='spacy',grams=1,emb_dim = 80,learning_rate = 0.001,num_epochs = 20,optim='Adam',decay=0.1)\n",
    "print(va_acc[-1])"
   ]
  },
  {
   "cell_type": "code",
   "execution_count": 32,
   "metadata": {},
   "outputs": [
    {
     "name": "stdout",
     "output_type": "stream",
     "text": [
      "61.0\n"
     ]
    }
   ],
   "source": [
    "tr_acc,va_acc=tuning(scheme='spacy',grams=1,emb_dim = 80,learning_rate = 0.001,num_epochs = 20,optim='Adam',decay=0.01)\n",
    "print(va_acc[-1])"
   ]
  },
  {
   "cell_type": "code",
   "execution_count": 20,
   "metadata": {},
   "outputs": [
    {
     "name": "stdout",
     "output_type": "stream",
     "text": [
      "56.58\n"
     ]
    }
   ],
   "source": [
    "tr_acc,va_acc=tuning(scheme='spacy',grams=1,emb_dim = 80,learning_rate = 0.001,num_epochs = 20,optim='Adam',decay=1)\n",
    "print(va_acc[-1])"
   ]
  },
  {
   "cell_type": "code",
   "execution_count": 21,
   "metadata": {},
   "outputs": [
    {
     "name": "stdout",
     "output_type": "stream",
     "text": [
      "55.28\n"
     ]
    }
   ],
   "source": [
    "tr_acc,va_acc=tuning(scheme='spacy',grams=1,emb_dim = 80,learning_rate = 0.001,num_epochs = 20,optim='Adam',decay=10)\n",
    "print(va_acc[-1])"
   ]
  },
  {
   "cell_type": "markdown",
   "metadata": {},
   "source": [
    "## Plotting and Evaluating"
   ]
  },
  {
   "cell_type": "code",
   "execution_count": 175,
   "metadata": {},
   "outputs": [
    {
     "name": "stdout",
     "output_type": "stream",
     "text": [
      "[79.54, 84.14, 85.96, 86.96, 87.48, 87.78, 88.04, 87.76, 87.44, 87.24, 87.24, 87.0, 86.6, 86.18, 86.24]\n"
     ]
    }
   ],
   "source": [
    "tr_acc,va_acc,model,test_loader,id2token=tuning(scheme='spacy',grams=1,emb_dim = 80,learning_rate = 0.001,num_epochs = 15,optim='Adam',decay=0,save=True)\n",
    "print(va_acc)"
   ]
  },
  {
   "cell_type": "code",
   "execution_count": 104,
   "metadata": {},
   "outputs": [
    {
     "data": {
      "image/png": "[encoded data removed]",
      "text/plain": [
       "<Figure size 432x288 with 1 Axes>"
      ]
     },
     "metadata": {},
     "output_type": "display_data"
    }
   ],
   "source": [
    "import matplotlib.pyplot as plt\n",
    "plt.plot(tr_acc,label='training')\n",
    "plt.plot(va_acc,label='validation')\n",
    "# plt.plot(ts_acc,label='testing')\n",
    "plt.legend()\n",
    "plt.xlabel('epochs')\n",
    "plt.ylabel('validation accuracy')\n",
    "plt.title('Learning curve for best performing model')\n",
    "plt.show()"
   ]
  },
  {
   "cell_type": "code",
   "execution_count": 176,
   "metadata": {},
   "outputs": [
    {
     "data": {
      "text/plain": [
       "92.21"
      ]
     },
     "execution_count": 176,
     "metadata": {},
     "output_type": "execute_result"
    }
   ],
   "source": [
    "def test_model(loader, model):\n",
    "    \"\"\"\n",
    "    Help function that tests the model's performance on a dataset\n",
    "    @param: loader - data loader for the dataset to test against\n",
    "    \"\"\"\n",
    "    correct = 0\n",
    "    total = 0\n",
    "    model.eval()\n",
    "    for data, lengths, labels in loader:\n",
    "        data_batch, length_batch, label_batch = data, lengths, labels\n",
    "        outputs = F.softmax(model(data_batch, length_batch), dim=1)\n",
    "        predicted = outputs.max(1, keepdim=True)[1]\n",
    "\n",
    "        total += labels.size(0)\n",
    "        correct += predicted.eq(labels.view_as(predicted)).sum().item()\n",
    "    return (100 * correct / total)\n",
    "test_model(test_loader, model)"
   ]
  },
  {
   "cell_type": "code",
   "execution_count": 198,
   "metadata": {},
   "outputs": [
    {
     "name": "stdout",
     "output_type": "stream",
     "text": [
      "silent night deadly night 5 is the very last of the series and like part 4 it 's unrelated to the first three except by title and the fact that it 's a christmas themed horror flick.<br /><br <unk> to the oblivious there 's some obvious things going on here ... mickey rooney plays a <unk> named joe <unk> and his creepy son 's name is <unk> ring a bell anyone now a little boy named derek heard a knock at the door one evening and opened it to find a present on the <unk> for him even though it said do n't open till christmas he begins to open it anyway but is stopped by his dad who <unk> him and sends him to bed and opens the gift himself inside is a little red ball that <unk> santa arms and a head and proceeds to kill dad <unk> maybe he should have left well enough alone of course derek is then traumatized by the incident since he watched it from the stairs but he does n't grow up to be some killer santa he just stops <unk> /><br />there 's a mysterious stranger lurking around who seems very interested in the toys that joe <unk> makes we even see him buying a bunch when derek 's mom takes him to the store to find a gift for him to bring him out of his trauma and what exactly is this guy doing well we 're not sure but\n",
      "target:  0\n",
      "predicted:  0\n",
      "the idea <unk> a very short film with a lot of information interesting entertaining and leaves the viewer wanting more the producer has produced a short film of excellent quality that can not be compared to any other short film that i have seen i have rated this film at the highest possible rating i also recommend that it is shown to office <unk> and business people in any establishment what comes out of it is the fact that people with ideas are never listened to their voice is never heard it is a lesson to be learned by any office that wants to go forward i hope that the produced will produce a second part to this idea i look forward to viewing the sequence once again <unk> to <unk> media in producing a film of excellence and quality with a lesson in mind <pad> <pad> <pad> <pad> <pad> <pad> <pad> <pad> <pad> <pad> <pad> <pad> <pad> <pad> <pad> <pad> <pad> <pad> <pad> <pad> <pad> <pad> <pad> <pad> <pad> <pad> <pad> <pad> <pad> <pad> <pad> <pad> <pad> <pad> <pad> <pad> <pad> <pad> <pad> <pad> <pad> <pad> <pad> <pad> <pad> <pad> <pad> <pad> <pad> <pad> <pad> <pad> <pad> <pad> <pad> <pad> <pad> <pad> <pad> <pad> <pad> <pad> <pad> <pad> <pad> <pad> <pad> <pad> <pad> <pad> <pad> <pad> <pad> <pad> <pad> <pad> <pad> <pad> <pad> <pad> <pad> <pad> <pad> <pad> <pad> <pad> <pad> <pad> <pad> <pad> <pad> <pad> <pad> <pad> <pad> <pad> <pad> <pad> <pad> <pad> <pad> <pad> <pad> <pad> <pad>\n",
      "target:  1\n",
      "predicted:  1\n",
      "for me this movie just seemed to fall on its face the main problem for me was the casting of glover as a serial killer i do n't know whether this grows out of type casting or simply his demeanor but i doubt glover could ever portray a convincing villain he 's a good guy and that 's always obvious in his performances other than that the film is your run of the mill serial killer story nothing very innovative <pad> <pad> <pad> <pad> <pad> <pad> <pad> <pad> <pad> <pad> <pad> <pad> <pad> <pad> <pad> <pad> <pad> <pad> <pad> <pad> <pad> <pad> <pad> <pad> <pad> <pad> <pad> <pad> <pad> <pad> <pad> <pad> <pad> <pad> <pad> <pad> <pad> <pad> <pad> <pad> <pad> <pad> <pad> <pad> <pad> <pad> <pad> <pad> <pad> <pad> <pad> <pad> <pad> <pad> <pad> <pad> <pad> <pad> <pad> <pad> <pad> <pad> <pad> <pad> <pad> <pad> <pad> <pad> <pad> <pad> <pad> <pad> <pad> <pad> <pad> <pad> <pad> <pad> <pad> <pad> <pad> <pad> <pad> <pad> <pad> <pad> <pad> <pad> <pad> <pad> <pad> <pad> <pad> <pad> <pad> <pad> <pad> <pad> <pad> <pad> <pad> <pad> <pad> <pad> <pad> <pad> <pad> <pad> <pad> <pad> <pad> <pad> <pad> <pad> <pad> <pad> <pad> <pad> <pad> <pad> <pad> <pad> <pad> <pad> <pad> <pad> <pad> <pad> <pad> <pad> <pad> <pad> <pad> <pad> <pad> <pad> <pad> <pad> <pad> <pad> <pad> <pad> <pad> <pad> <pad> <pad> <pad> <pad> <pad> <pad> <pad> <pad> <pad> <pad> <pad> <pad> <pad> <pad> <pad> <pad> <pad> <pad> <pad> <pad> <pad> <pad> <pad> <pad> <pad> <pad>\n",
      "target:  0\n",
      "predicted:  0\n",
      "<unk> may contain spoilers ... <br /><br />i've seen this movie 3 times i 've liked it every time upon seeing it again i 'm always reminded of how good it is an hbo tv <unk> very well done like most of their movies <unk> this would 've gotten oscars for it 's performances had it been released for general distribution instead of made for <unk> /><br />as i 'm sure anyone knows from reading other reviews here this is the story of serial murderer <unk> <unk> he murdered <unk> people over 8 years in the former soviet union 3 victims were buried could n't be found so he was only convicted of <unk> out of <unk> of his murders the story actually focuses more on the <unk> <unk> victor <unk> played to perfection by stephen rea a man that becomes tortured and obsessed with finding this killer despite the additional obstacles placed by party <unk> his part is essential to be sure there is a very touching scene towards the end of the movie that mentions how in america <unk> are <unk> taken off serial killer cases after 18 months whether they want to or not due to the mental strain frustration according to this <unk> <unk> worked for over 5 years before getting his first break from it he followed the case to its conclusion 3 years later in this scene his superior general <unk> played by donald sutherland actually tells him he <unk> his dedication and <unk>\n",
      "target:  1\n",
      "predicted:  1\n",
      "1st watched <unk> 3 out of <unk> steve <unk> typical mary kate ashley fare with a few more <unk> it looks to me like the girls are getting pretty tired of this stuff and it will be interesting what happens to them if they ever decide to split up and go there own ways in this episode of their adventures they are <unk> in rome for a fashion designer who puts them right into the <unk> to learn what working hard is all <unk> guess .. besides the typical <unk> with boys there is nothing much else except the rome scenario until about <unk> way into the movie when it 's finally revealed why they are getting fired then re hired then fired again then re hired again this is <unk> made by people who do n't understand the corporate world and it shows in their interpretation of it maybe the real world will be their next <unk> there is one even my kids did n't seem to care for this boring adventure in the make believe let 's see they probably only have a couple of years till their legal adults we 'll see what happens then <pad> <pad> <pad> <pad> <pad> <pad> <pad> <pad> <pad> <pad> <pad> <pad> <pad> <pad> <pad> <pad> <pad> <pad> <pad> <pad> <pad> <pad> <pad> <pad> <pad> <pad> <pad> <pad> <pad> <pad> <pad> <pad> <pad> <pad> <pad> <pad> <pad> <pad> <pad> <pad> <pad> <pad> <pad> <pad> <pad> <pad> <pad> <pad> <pad> <pad> <pad> <pad>\n",
      "target:  0\n",
      "predicted:  0\n"
     ]
    }
   ],
   "source": [
    "model.eval()\n",
    "i=0\n",
    "for data, lengths, labels in test_loader:\n",
    "    data_batch, length_batch, label_batch = data, lengths, labels\n",
    "    outputs = F.softmax(model(data_batch, length_batch), dim=1)\n",
    "    predicted = outputs.max(1, keepdim=True)[1]\n",
    "    for j in range(len(outputs)):\n",
    "        if predicted[j].eq(labels[j].view_as(predicted[j])).sum().item()==1:\n",
    "            i+=1\n",
    "            print(' '.join([id2token[i.item()] for i in data_batch[j]]))\n",
    "            print('target: ', labels[j].item())\n",
    "            print('predicted: ', predicted[j].item())\n",
    "        if i==5:\n",
    "            break\n",
    "    if i==5:\n",
    "        break"
   ]
  },
  {
   "cell_type": "code",
   "execution_count": 136,
   "metadata": {},
   "outputs": [
    {
     "name": "stdout",
     "output_type": "stream",
     "text": [
      "was this based on a comic book a video game a drawing by a 3 year old br /><br />there is nothing in this movie to be taken seriously at all not the characters not the dialog not the plot not the action nothing we have high tech international terrorists criminals who <unk> like pre school kids stallone 's man of steel type <unk> towards ice cold weather dialog so dumb that it 's sometimes almost hilarious and so on even the <unk> that the bad guys use is dumb tango tango a film that entertains through some suspense good action sequences and a nice snowy <unk> setting oh yes and the unintentional <unk> /><br />the film opens with some truly bad and unconvincing gay banter between our go lucky and happy characters who are obviously having a <unk> time then comes a sweat inducing failed rescue part which should make anyone with fear of heights problems want to pull their hair out and then we have some more bad dialog and after that some more great action this is the rhythm of the film in a nutshell br /><br <unk> 's melodramatic exchange with turner when they meet after\n",
      "target:  1\n",
      "predicted:  0\n",
      "when i was a kid we always used to be <unk> and we always used to rent a film or see a film at the cinema this is one of the films we watched this is one of the <unk> films i 've ever seen i think it might even be a walt disney pictures film a martian is dropped on earth turns into a human befriends a human and is trying everything he can to get back home but he is distracted by the wonders of the earth the only good comment i can give is the choice of actors back to the future 's christopher lloyd as the martian uncle martin dumb and dumber 's jeff daniels as tim o'hara elizabeth <unk> as <unk> <unk> and <unk> hannah as <unk> but apart from that it 's complete crap poor <pad> <pad> <pad> <pad> <pad> <pad> <pad> <pad> <pad> <pad> <pad> <pad> <pad> <pad> <pad> <pad> <pad> <pad> <pad> <pad> <pad> <pad> <pad> <pad> <pad> <pad> <pad> <pad> <pad> <pad> <pad> <pad> <pad> <pad> <pad> <pad> <pad> <pad> <pad> <pad> <pad> <pad> <pad> <pad> <pad> <pad> <pad> <pad> <pad> <pad> <pad> <pad> <pad> <pad> <pad> <pad> <pad> <pad> <pad>\n",
      "target:  0\n",
      "predicted:  1\n",
      "what hopkins does succeed at with this effort as writer and director is giving us a sense that we know absolutely no one in the film however perhaps <unk> lies the problem his movie has a lot of ambition and his intentions were obviously complex and drawn from very deep within but it 's so <unk> there are no characters we never know who anyone is thus there is no investment on our part.<br /><br />it could be about a screenwriter <unk> with his own characters is it maybe by that i do n't mean that <unk> is ambiguous i mean that there is no telling hopkins 's film is an experiment on the face of it one could make the case that it is about a would be screenwriter who at the very moment of his meeting with fate realizes that life is hit and miss and/or success is blind chance as he is <unk> into a <unk> of <unk> between points in time dreams thoughts and reality nevertheless it is so <unk> cerebral that it leaves no room for any hint of emotion even to the tiny quite <unk> extent of allowing us a connection with its characters.<br\n",
      "target:  0\n",
      "predicted:  1\n",
      "<unk> in at an <unk> three hours and twenty minutes <unk> e <unk> is a pretty but superficial comic soap opera from india that <unk> us with six <unk> tales of romantic love which is at least four tales too many in my <unk> /><br <unk> like a cross between an mtv music video and a super bowl beer commercial the movie is a <unk> <unk> of exotic settings dazzling colors sexy <unk> high stepping song and dance numbers dream and fantasy sequences <unk> character <unk> corny dialogue and way over the top comical performances all pretty much standard issue stuff when it comes to bollywood happenings these days it 's an <unk> <unk> just trying to keep all the characters straight as they dance <unk> and <unk> their way through the incomprehensible <unk> /><br />there 's plenty for the viewer to feast his eyes on here not least of all all the drop dead gorgeous women but he 'll need the patience of job to get him all the way through it <pad> <pad> <pad> <pad> <pad> <pad> <pad> <pad> <pad> <pad> <pad> <pad> <pad> <pad> <pad> <pad> <pad> <pad> <pad> <pad> <pad> <pad> <pad> <pad> <pad> <pad> <pad>\n",
      "target:  0\n",
      "predicted:  1\n",
      "<unk> <unk> 's respect for acting is the standard <unk> in many college theater <unk> in the book <unk> presents two <unk> different approaches to developing a character as an actor the <unk> approach and the <unk> approach in the <unk> approach the actor focuses on realizing the character as honestly as possible by introducing emotional elements from the actor 's own life in the <unk> approach the actor tries to present the effect of an emotion through a high degree of control of movement and <unk> /><br />the <unk> approach to acting was still partially in <unk> when this hamlet was made british theater has a long history of this style of acting and olivier could be said to be the ultimate king of the <unk> <unk> /><br <unk> has not been kind to this school of acting or to this movie nearly every working actor today uses a <unk> approach to the modern eye olivier 's highly <unk> stylized delivery is <unk> stiff and stilted instead of creating an <unk> conflicted hamlet olivier made a <unk> self important <unk> out of the melancholy <unk> -- an acting style that would have carried well to the backs of the\n",
      "target:  0\n",
      "predicted:  1\n"
     ]
    }
   ],
   "source": [
    "model.eval()\n",
    "i=0\n",
    "for data, lengths, labels in test_loader:\n",
    "    data_batch, length_batch, label_batch = data, lengths, labels\n",
    "    outputs = F.softmax(model(data_batch, length_batch), dim=1)\n",
    "    predicted = outputs.max(1, keepdim=True)[1]\n",
    "    for j in range(len(outputs)):\n",
    "        if predicted[j].eq(labels[j].view_as(predicted[j])).sum().item()!=1:\n",
    "            i+=1\n",
    "            print(' '.join([id2token[i.item()] for i in data_batch[j]]))\n",
    "            print('target: ', labels[j].item())\n",
    "            print('predicted: ', predicted[j].item())\n",
    "        if i==5:\n",
    "            break\n",
    "    if i==5:\n",
    "        break"
   ]
  }
 ],
 "metadata": {
  "kernelspec": {
   "display_name": "Python 3",
   "language": "python",
   "name": "python3"
  },
  "language_info": {
   "codemirror_mode": {
    "name": "ipython",
    "version": 3
   },
   "file_extension": ".py",
   "mimetype": "text/x-python",
   "name": "python",
   "nbconvert_exporter": "python",
   "pygments_lexer": "ipython3",
   "version": "3.6.3"
  }
 },
 "nbformat": 4,
 "nbformat_minor": 2
}
